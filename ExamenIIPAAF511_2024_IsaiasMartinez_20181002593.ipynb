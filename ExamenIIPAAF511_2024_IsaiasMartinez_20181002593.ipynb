{
 "cells": [
  {
   "cell_type": "markdown",
   "metadata": {},
   "source": [
    "# Examen II Parcial AAF-511\n",
    "\n",
    "# Parte teórica\n",
    "- ¿Cómo sabemos que en el centro de la Galaxia hay un agujero negro supermasivo?\n",
    "\n",
    "Se ha detectado una fuente compacta de radio muy cerca del GC y observaciones recientes estiman su tamaño de aprox. 1AU. La luminosidad en radio se estima que es aprox. $L_{rad} = 2 \\times 10^{34}erg/s$. El centro de masa se ha interpretado como un BH debido a las siguientes razones:\n",
    "\n",
    "1) El movimiento de las estrellas que se encuentran dentro de un Cumulo globlar conocido como 'The S star Cluster'. Estas estrellas son tipo B y las velocidades exceden los 1,000km/s hasta 10,000km/s. Esto solamente es posible con un modelo de SMBH.\n",
    "\n",
    "2) A partir de las observaciones de la cinetica de las estrellas se ha podido estimar un perfil de masa encerrada $M(r)$. Los correspondientes analisis indican que dicho perfil de masa se mantiene aproximadamente constante en un rango de 0.01pc < r < 0.5pc. Y la masa correspondiente es aproximadamente $M = 4.3\\times 10^{6}M_{\\odot}$ y solamente es explicada con un modelo de un BH.\n",
    "\n",
    "3) Tambien se han observado Flares de X-ray observados por el Chandra.\n",
    "\n",
    "- ¿Cómo sabemos que existe la \"materia oscura\"?\n",
    "\n",
    "Existen varias formas de saber sobre la existencia de la DM pero voy a describir 2:\n",
    "\n",
    "1) Analizando la curva de rotación de varias galaxias notamos que no se comporta como se esperaria, se esperaría que a una mayor distancia la velocidad de rotación disminuya, pero se ha encontrado que se mantiene relativamente constante e incluso en algunas galaxias incrementa. Esto nos indica de una posible existencia de materia que no estamos observando que rodean a las galaxias en un halo.\n",
    "\n",
    "2) Observando lentes gravitacionales masivos como cumulos de galaxias el efecto de la lente es mucho mayor al esperado con la masa que se encuentra presente, indicando la posible existencia de masa que no observamos.\n",
    "\n",
    "- ¿Porqué nuestra galaxia no se comporta como una Galaxia de Núcleo Activo (AGN)?\n",
    "\n",
    "Nuestra galaxia no tiene mucha actividad como las AGN. La energia producida en los AGN es debida a la acreción de gas al rededor del SMBH. Se ha podido estimar que la acreción del BH de nuestra galaxia es muy muy poca. haciendo que no se comporte como un AGN.\n",
    "\n",
    "- Explique de manera resumida como detectamos exoplanetas usando el método de las microlentes gravitacionales.\n",
    "\n",
    "El método consiste en tener una fuente de luz de fondo como una estrella y en primer plano una estrella con su planeta orbitando, los cuales actuaran de lentes gravitacionales. Debido a la lente gravitacional la luz de la estrella de fondo curvara su trayectoria y se enfocara aumentando el brillo de la estrella de fondo temporalmente. Estas lentes gravitaciones producen unas curvas de luz características (descritas por Pacznski) que poseen una forma simétrica con un aumento gradual en el brillo seguido de una disminución gradual. Debido a la presencia de los planetas que orbitan a la estrella, estos pueden aportar caracterizas adicionales a la curva de luz. Analizando dicha curva de luz podemos inferir varias caracteristicas del planeta.\n",
    "\n",
    "- ¿Qué son las burbujas de Fermi y como las descubrimos?\n",
    "\n",
    "Las burbujas de Fermi son dos grandes estructuras en rayos gamma hacia arriba y hacia abajo del centro galactico, que pueden alcanzar la latitudes de |b|< 50°. Los descubrimos utilizando el Fermi Satellite. Las dos 'burbujas de Fermi' están asociadas con una emisión de microondas mejorada, vista por los satélites WMAP y Planck. El rango de energias de estas burbujas es visto entre 1 y 100GeV. El origen de las burbujas es altamente debatido a día de hoy-\n",
    "\n",
    "\n",
    "# Parte practica\n",
    "## Problema 1\n",
    "- Asumiendo que nuestro sistema solar se mueve alrededor del centro galáctico en una órbita kepleriana. Cuántas orbitas ha realizado el Sol en su tiempo de existencia?\n",
    "- Usando los datos del articulo https://ui.adsabs.harvard.edu/abs/2009ApJ...692.1075G/abstract ¿Cuánto tarda en dar una vuelta alrededor del centro galactico?\n",
    "- ¿Cómo se compara el tiempo de una órbita del Sol y la de S2?\n",
    "\n",
    "## Problema 2\n",
    "- La resolución del telescopio espacial James Webb (JWST, por sus siglas en ingles) es de 0.1 $arcsec$ a una longitud de 2 $\\mu m$ ¿Que tan lejos podríamos ver un anillo de Einstein, usando el JWST, de una fuente si usáramos una lente gravitacional del tamaño del agujero negro supermasivo en el centro de nuestra galaxia? ¿Cuanto duraría la magnificaron de ese evento?\n",
    "\n",
    "## Problema 3\n",
    "- Usando de referencia la figura 1 en el articulo: https://ui.adsabs.harvard.edu/abs/2022AJ....164..118I/abstract, reproduzca la curva de luz teórica y encuentre los parámetros $t_E$, $t_{max}$, $p$ de la mircrolente gravitacional.  "
   ]
  },
  {
   "cell_type": "markdown",
   "metadata": {},
   "source": [
    "### Problema 1)"
   ]
  },
  {
   "cell_type": "code",
   "execution_count": 1,
   "metadata": {},
   "outputs": [
    {
     "name": "stderr",
     "output_type": "stream",
     "text": [
      "/home/idies/miniconda3/envs/py38/lib/python3.8/site-packages/pandas/core/computation/expressions.py:20: UserWarning: Pandas requires version '2.7.3' or newer of 'numexpr' (version '2.7.1' currently installed).\n",
      "  from pandas.core.computation.check import NUMEXPR_INSTALLED\n"
     ]
    }
   ],
   "source": [
    "%matplotlib notebook\n",
    "import pandas as pd\n",
    "import matplotlib.pyplot as plt\n",
    "from astropy import units as u\n",
    "import numpy as np\n",
    "import astropy.constants as cons"
   ]
  },
  {
   "cell_type": "markdown",
   "metadata": {},
   "source": [
    "- Asumiendo que nuestro sistema solar se mueve alrededor del centro galáctico en una órbita kepleriana. Cuántas orbitas ha realizado el Sol en su tiempo de existencia?\n",
    "\n",
    "Ingresamos datos:"
   ]
  },
  {
   "cell_type": "code",
   "execution_count": 2,
   "metadata": {},
   "outputs": [],
   "source": [
    "M_bh = 4.3e6*u.M_sun\n",
    "m_sun = 1*u.M_sun\n",
    "R_0 = 8.2*u.kpc\n",
    "G = cons.G\n",
    "theta_0 = 220*u.km/u.s"
   ]
  },
  {
   "cell_type": "markdown",
   "metadata": {},
   "source": [
    "Usando Kepler:"
   ]
  },
  {
   "cell_type": "code",
   "execution_count": 3,
   "metadata": {},
   "outputs": [
    {
     "data": {
      "text/latex": [
       "$3.3545356 \\times 10^{10} \\; \\mathrm{yr}$"
      ],
      "text/plain": [
       "<Quantity 3.35453558e+10 yr>"
      ]
     },
     "execution_count": 3,
     "metadata": {},
     "output_type": "execute_result"
    }
   ],
   "source": [
    "T = np.sqrt(((4*np.pi**2)/(G))*((R_0**3)/((M_bh + m_sun)))).to(u.yr)\n",
    "T"
   ]
  },
  {
   "cell_type": "code",
   "execution_count": 4,
   "metadata": {},
   "outputs": [
    {
     "data": {
      "text/latex": [
       "$0.14905193 \\; \\mathrm{}$"
      ],
      "text/plain": [
       "<Quantity 0.14905193>"
      ]
     },
     "execution_count": 4,
     "metadata": {},
     "output_type": "execute_result"
    }
   ],
   "source": [
    "T_sun = 5e9*u.yr\n",
    "T_sun/T"
   ]
  },
  {
   "cell_type": "markdown",
   "metadata": {},
   "source": [
    "Segun Kepler, no ha dado ni una vuelta."
   ]
  },
  {
   "cell_type": "markdown",
   "metadata": {},
   "source": [
    "Otra forma de hacerlo:"
   ]
  },
  {
   "cell_type": "code",
   "execution_count": 5,
   "metadata": {},
   "outputs": [
    {
     "data": {
      "text/latex": [
       "$8.6947737 \\times 10^{-16} \\; \\mathrm{\\frac{1}{s}}$"
      ],
      "text/plain": [
       "<Quantity 8.6947737e-16 1 / s>"
      ]
     },
     "execution_count": 5,
     "metadata": {},
     "output_type": "execute_result"
    }
   ],
   "source": [
    "W = (theta_0/R_0).to(1/u.s)\n",
    "W"
   ]
  },
  {
   "cell_type": "code",
   "execution_count": 6,
   "metadata": {},
   "outputs": [
    {
     "data": {
      "text/latex": [
       "$2.2899058 \\times 10^{8} \\; \\mathrm{yr}$"
      ],
      "text/plain": [
       "<Quantity 2.28990581e+08 yr>"
      ]
     },
     "execution_count": 6,
     "metadata": {},
     "output_type": "execute_result"
    }
   ],
   "source": [
    "T_2 = (2*np.pi/W).to(u.yr)\n",
    "T_2"
   ]
  },
  {
   "cell_type": "code",
   "execution_count": 7,
   "metadata": {},
   "outputs": [
    {
     "data": {
      "text/latex": [
       "$21.834959 \\; \\mathrm{}$"
      ],
      "text/plain": [
       "<Quantity 21.83495928>"
      ]
     },
     "execution_count": 7,
     "metadata": {},
     "output_type": "execute_result"
    }
   ],
   "source": [
    "T_sun/T_2"
   ]
  },
  {
   "cell_type": "markdown",
   "metadata": {},
   "source": [
    "Aproximadamente unas 20 vueltas."
   ]
  },
  {
   "cell_type": "markdown",
   "metadata": {},
   "source": [
    "Se estima que el sol tiene un tiempo de:"
   ]
  },
  {
   "cell_type": "markdown",
   "metadata": {},
   "source": [
    "- Usando los datos del articulo https://ui.adsabs.harvard.edu/abs/2009ApJ...692.1075G/abstract ¿Cuánto tarda en dar una vuelta alrededor del centro galactico?"
   ]
  },
  {
   "cell_type": "markdown",
   "metadata": {},
   "source": [
    "Vamos a usar S2 para calcular el tiempo de su orbita:"
   ]
  },
  {
   "cell_type": "markdown",
   "metadata": {},
   "source": [
    "Vamos el valor del semieje mayor:"
   ]
  },
  {
   "cell_type": "code",
   "execution_count": 8,
   "metadata": {},
   "outputs": [
    {
     "data": {
      "text/latex": [
       "$1008.6 \\; \\mathrm{AU}$"
      ],
      "text/plain": [
       "<Quantity 1008.6 AU>"
      ]
     },
     "execution_count": 8,
     "metadata": {},
     "output_type": "execute_result"
    }
   ],
   "source": [
    "a = (0.123*u.arcsec).to(u.radian)/(u.radian)*(R_0).to(u.AU)\n",
    "a"
   ]
  },
  {
   "cell_type": "markdown",
   "metadata": {},
   "source": [
    "Usando Nuevamente a Kepler y despreciando la masa de la estrella:"
   ]
  },
  {
   "cell_type": "code",
   "execution_count": 9,
   "metadata": {},
   "outputs": [
    {
     "data": {
      "text/latex": [
       "$15.447292 \\; \\mathrm{yr}$"
      ],
      "text/plain": [
       "<Quantity 15.44729249 yr>"
      ]
     },
     "execution_count": 9,
     "metadata": {},
     "output_type": "execute_result"
    }
   ],
   "source": [
    "T_s2 = np.sqrt(((4*np.pi**2)/(G))*((a**3)/((M_bh + m_sun)))).to(u.yr)\n",
    "T_s2"
   ]
  },
  {
   "cell_type": "markdown",
   "metadata": {},
   "source": [
    "Segun: https://es.wikipedia.org/wiki/Sagitario_A*, en la ultima tabla\n",
    "\n",
    "El periodo orbital de la estrella es aprox. $15,24±0,36 yr$"
   ]
  },
  {
   "cell_type": "markdown",
   "metadata": {},
   "source": [
    "- ¿Cómo se compara el tiempo de una órbita del Sol y la de S2?"
   ]
  },
  {
   "cell_type": "code",
   "execution_count": 10,
   "metadata": {},
   "outputs": [
    {
     "data": {
      "text/latex": [
       "$2.171601 \\times 10^{9} \\; \\mathrm{}$"
      ],
      "text/plain": [
       "<Quantity 2.171601e+09>"
      ]
     },
     "execution_count": 10,
     "metadata": {},
     "output_type": "execute_result"
    }
   ],
   "source": [
    "T/T_s2"
   ]
  },
  {
   "cell_type": "markdown",
   "metadata": {},
   "source": [
    "El periodo orbital del sol es muchisimo mayor que el periodo orbital de S2 por un orden de $2.1\\times 10^9$"
   ]
  },
  {
   "cell_type": "markdown",
   "metadata": {},
   "source": [
    "## Problema 2\n",
    "- La resolución del telescopio espacial James Webb (JWST, por sus siglas en ingles) es de 0.1 $arcsec$ a una longitud de 2 $\\mu m$ ¿Que tan lejos podríamos ver un anillo de Einstein, usando el JWST, de una fuente si usáramos una lente gravitacional del tamaño del agujero negro supermasivo en el centro de nuestra galaxia? ¿Cuanto duraría la magnificaron de ese evento?\n"
   ]
  },
  {
   "cell_type": "markdown",
   "metadata": {},
   "source": [
    "Usaremos la ecuación del angulo de Einstein."
   ]
  },
  {
   "cell_type": "code",
   "execution_count": 11,
   "metadata": {},
   "outputs": [],
   "source": [
    "from sympy import *"
   ]
  },
  {
   "cell_type": "code",
   "execution_count": 12,
   "metadata": {},
   "outputs": [],
   "source": [
    "Ds = symbols('Ds')"
   ]
  },
  {
   "cell_type": "markdown",
   "metadata": {},
   "source": [
    "Con esta libreria tengo que introducir los datos numericos manualmente para resolver la ecuación, dichos datos se encuentran expresados arriba."
   ]
  },
  {
   "cell_type": "code",
   "execution_count": 13,
   "metadata": {},
   "outputs": [
    {
     "data": {
      "text/latex": [
       "$100 \\; \\mathrm{mas}$"
      ],
      "text/plain": [
       "<Quantity 100. mas>"
      ]
     },
     "execution_count": 13,
     "metadata": {},
     "output_type": "execute_result"
    }
   ],
   "source": [
    "Theta_E = (0.1*u.arcsec).to(u.mas)\n",
    "Theta_E"
   ]
  },
  {
   "cell_type": "code",
   "execution_count": 14,
   "metadata": {},
   "outputs": [
    {
     "data": {
      "text/plain": [
       "[8.21926483509771]"
      ]
     },
     "execution_count": 14,
     "metadata": {},
     "output_type": "execute_result"
    }
   ],
   "source": [
    "solve(0.902*(4.3e6/(1))**(1/2)*(8.2/10)**(-1/2)*(1-8.2/Ds)**(1/2) - 100, Ds)"
   ]
  },
  {
   "cell_type": "code",
   "execution_count": 15,
   "metadata": {},
   "outputs": [],
   "source": [
    "D_s = 8.2192*u.kpc"
   ]
  },
  {
   "cell_type": "markdown",
   "metadata": {},
   "source": [
    "Para calcular el tiempo que duraría este evento usamos el movimiento propio del BH:\n",
    "\n",
    "\"From a series of VLBI observations of the position of Sgr A*.... this proper motion translates into an orbital velocity of V =241km=s.\""
   ]
  },
  {
   "cell_type": "code",
   "execution_count": 16,
   "metadata": {},
   "outputs": [],
   "source": [
    "v = 241*u.km/u.s"
   ]
  },
  {
   "cell_type": "code",
   "execution_count": 17,
   "metadata": {},
   "outputs": [
    {
     "data": {
      "text/latex": [
       "$16.117724 \\; \\mathrm{yr}$"
      ],
      "text/plain": [
       "<Quantity 16.11772422 yr>"
      ]
     },
     "execution_count": 17,
     "metadata": {},
     "output_type": "execute_result"
    }
   ],
   "source": [
    "t_E = 0.214*u.yr*(M_bh/(1*u.M_sun))**(1/2)*(R_0/(10*u.kpc))**(1/2)*(1- R_0/D_s)**(1/2)*(v/(200*u.km/u.s))**(-1)\n",
    "t_E"
   ]
  },
  {
   "cell_type": "markdown",
   "metadata": {},
   "source": [
    "Esta raro porque usualmente anda en el orden de meses."
   ]
  },
  {
   "cell_type": "markdown",
   "metadata": {},
   "source": [
    "Al comprobar con symbolab da el mismo resultado."
   ]
  },
  {
   "cell_type": "markdown",
   "metadata": {},
   "source": [
    "## Problema 3\n",
    "- Usando de referencia la figura 1 en el articulo: https://ui.adsabs.harvard.edu/abs/2022AJ....164..118I/abstract, reproduzca la curva de luz teórica y encuentre los parámetros $t_E$, $t_{max}$, $p$ de la mircrolente gravitacional.  "
   ]
  },
  {
   "cell_type": "markdown",
   "metadata": {},
   "source": [
    "De la Figura podemos extraer los siguientes datos aprox."
   ]
  },
  {
   "cell_type": "code",
   "execution_count": 18,
   "metadata": {},
   "outputs": [
    {
     "data": {
      "text/latex": [
       "$[9020,~9020.1,~9020.2,~\\dots,~9059.7,~9059.8,~9059.9] \\; \\mathrm{d}$"
      ],
      "text/plain": [
       "<Quantity [9020. , 9020.1, 9020.2, 9020.3, 9020.4, 9020.5, 9020.6, 9020.7,\n",
       "           9020.8, 9020.9, 9021. , 9021.1, 9021.2, 9021.3, 9021.4, 9021.5,\n",
       "           9021.6, 9021.7, 9021.8, 9021.9, 9022. , 9022.1, 9022.2, 9022.3,\n",
       "           9022.4, 9022.5, 9022.6, 9022.7, 9022.8, 9022.9, 9023. , 9023.1,\n",
       "           9023.2, 9023.3, 9023.4, 9023.5, 9023.6, 9023.7, 9023.8, 9023.9,\n",
       "           9024. , 9024.1, 9024.2, 9024.3, 9024.4, 9024.5, 9024.6, 9024.7,\n",
       "           9024.8, 9024.9, 9025. , 9025.1, 9025.2, 9025.3, 9025.4, 9025.5,\n",
       "           9025.6, 9025.7, 9025.8, 9025.9, 9026. , 9026.1, 9026.2, 9026.3,\n",
       "           9026.4, 9026.5, 9026.6, 9026.7, 9026.8, 9026.9, 9027. , 9027.1,\n",
       "           9027.2, 9027.3, 9027.4, 9027.5, 9027.6, 9027.7, 9027.8, 9027.9,\n",
       "           9028. , 9028.1, 9028.2, 9028.3, 9028.4, 9028.5, 9028.6, 9028.7,\n",
       "           9028.8, 9028.9, 9029. , 9029.1, 9029.2, 9029.3, 9029.4, 9029.5,\n",
       "           9029.6, 9029.7, 9029.8, 9029.9, 9030. , 9030.1, 9030.2, 9030.3,\n",
       "           9030.4, 9030.5, 9030.6, 9030.7, 9030.8, 9030.9, 9031. , 9031.1,\n",
       "           9031.2, 9031.3, 9031.4, 9031.5, 9031.6, 9031.7, 9031.8, 9031.9,\n",
       "           9032. , 9032.1, 9032.2, 9032.3, 9032.4, 9032.5, 9032.6, 9032.7,\n",
       "           9032.8, 9032.9, 9033. , 9033.1, 9033.2, 9033.3, 9033.4, 9033.5,\n",
       "           9033.6, 9033.7, 9033.8, 9033.9, 9034. , 9034.1, 9034.2, 9034.3,\n",
       "           9034.4, 9034.5, 9034.6, 9034.7, 9034.8, 9034.9, 9035. , 9035.1,\n",
       "           9035.2, 9035.3, 9035.4, 9035.5, 9035.6, 9035.7, 9035.8, 9035.9,\n",
       "           9036. , 9036.1, 9036.2, 9036.3, 9036.4, 9036.5, 9036.6, 9036.7,\n",
       "           9036.8, 9036.9, 9037. , 9037.1, 9037.2, 9037.3, 9037.4, 9037.5,\n",
       "           9037.6, 9037.7, 9037.8, 9037.9, 9038. , 9038.1, 9038.2, 9038.3,\n",
       "           9038.4, 9038.5, 9038.6, 9038.7, 9038.8, 9038.9, 9039. , 9039.1,\n",
       "           9039.2, 9039.3, 9039.4, 9039.5, 9039.6, 9039.7, 9039.8, 9039.9,\n",
       "           9040. , 9040.1, 9040.2, 9040.3, 9040.4, 9040.5, 9040.6, 9040.7,\n",
       "           9040.8, 9040.9, 9041. , 9041.1, 9041.2, 9041.3, 9041.4, 9041.5,\n",
       "           9041.6, 9041.7, 9041.8, 9041.9, 9042. , 9042.1, 9042.2, 9042.3,\n",
       "           9042.4, 9042.5, 9042.6, 9042.7, 9042.8, 9042.9, 9043. , 9043.1,\n",
       "           9043.2, 9043.3, 9043.4, 9043.5, 9043.6, 9043.7, 9043.8, 9043.9,\n",
       "           9044. , 9044.1, 9044.2, 9044.3, 9044.4, 9044.5, 9044.6, 9044.7,\n",
       "           9044.8, 9044.9, 9045. , 9045.1, 9045.2, 9045.3, 9045.4, 9045.5,\n",
       "           9045.6, 9045.7, 9045.8, 9045.9, 9046. , 9046.1, 9046.2, 9046.3,\n",
       "           9046.4, 9046.5, 9046.6, 9046.7, 9046.8, 9046.9, 9047. , 9047.1,\n",
       "           9047.2, 9047.3, 9047.4, 9047.5, 9047.6, 9047.7, 9047.8, 9047.9,\n",
       "           9048. , 9048.1, 9048.2, 9048.3, 9048.4, 9048.5, 9048.6, 9048.7,\n",
       "           9048.8, 9048.9, 9049. , 9049.1, 9049.2, 9049.3, 9049.4, 9049.5,\n",
       "           9049.6, 9049.7, 9049.8, 9049.9, 9050. , 9050.1, 9050.2, 9050.3,\n",
       "           9050.4, 9050.5, 9050.6, 9050.7, 9050.8, 9050.9, 9051. , 9051.1,\n",
       "           9051.2, 9051.3, 9051.4, 9051.5, 9051.6, 9051.7, 9051.8, 9051.9,\n",
       "           9052. , 9052.1, 9052.2, 9052.3, 9052.4, 9052.5, 9052.6, 9052.7,\n",
       "           9052.8, 9052.9, 9053. , 9053.1, 9053.2, 9053.3, 9053.4, 9053.5,\n",
       "           9053.6, 9053.7, 9053.8, 9053.9, 9054. , 9054.1, 9054.2, 9054.3,\n",
       "           9054.4, 9054.5, 9054.6, 9054.7, 9054.8, 9054.9, 9055. , 9055.1,\n",
       "           9055.2, 9055.3, 9055.4, 9055.5, 9055.6, 9055.7, 9055.8, 9055.9,\n",
       "           9056. , 9056.1, 9056.2, 9056.3, 9056.4, 9056.5, 9056.6, 9056.7,\n",
       "           9056.8, 9056.9, 9057. , 9057.1, 9057.2, 9057.3, 9057.4, 9057.5,\n",
       "           9057.6, 9057.7, 9057.8, 9057.9, 9058. , 9058.1, 9058.2, 9058.3,\n",
       "           9058.4, 9058.5, 9058.6, 9058.7, 9058.8, 9058.9, 9059. , 9059.1,\n",
       "           9059.2, 9059.3, 9059.4, 9059.5, 9059.6, 9059.7, 9059.8, 9059.9] d>"
      ]
     },
     "execution_count": 18,
     "metadata": {},
     "output_type": "execute_result"
    }
   ],
   "source": [
    "t = np.arange(9020,9060, 0.1)*u.d\n",
    "t"
   ]
  },
  {
   "cell_type": "code",
   "execution_count": 19,
   "metadata": {},
   "outputs": [],
   "source": [
    "t_E = 10*u.d\n",
    "mu = 31\n",
    "t_max = 9041*u.d"
   ]
  },
  {
   "cell_type": "markdown",
   "metadata": {},
   "source": [
    "Calculamos P:"
   ]
  },
  {
   "cell_type": "code",
   "execution_count": 20,
   "metadata": {},
   "outputs": [],
   "source": [
    "p = symbols('p')"
   ]
  },
  {
   "cell_type": "code",
   "execution_count": 21,
   "metadata": {},
   "outputs": [
    {
     "data": {
      "text/plain": [
       "[0.0322706606765143, 2.00026033194194*I]"
      ]
     },
     "execution_count": 21,
     "metadata": {},
     "output_type": "execute_result"
    }
   ],
   "source": [
    "solve((p**2+2)/(p*(p**2+4)**(1/2)) - 31, p)"
   ]
  },
  {
   "cell_type": "code",
   "execution_count": 22,
   "metadata": {},
   "outputs": [],
   "source": [
    "p = 0.03227"
   ]
  },
  {
   "cell_type": "code",
   "execution_count": 23,
   "metadata": {},
   "outputs": [
    {
     "data": {
      "text/latex": [
       "$[2.1002479,~2.0902491,~2.0802503,~\\dots,~1.8702784,~1.8802769,~1.8902755] \\; \\mathrm{}$"
      ],
      "text/plain": [
       "<Quantity [2.10024793, 2.09024911, 2.08025031, 2.07025152, 2.06025274,\n",
       "           2.05025397, 2.04025522, 2.03025647, 2.02025774, 2.01025903,\n",
       "           2.00026032, 1.99026163, 1.98026295, 1.97026429, 1.96026563,\n",
       "           1.950267  , 1.94026837, 1.93026976, 1.92027117, 1.91027259,\n",
       "           1.90027402, 1.89027547, 1.88027694, 1.87027842, 1.86027991,\n",
       "           1.85028143, 1.84028295, 1.8302845 , 1.82028606, 1.81028764,\n",
       "           1.80028924, 1.79029086, 1.78029249, 1.77029414, 1.76029581,\n",
       "           1.7502975 , 1.74029921, 1.73030094, 1.72030269, 1.71030446,\n",
       "           1.70030625, 1.69030806, 1.6803099 , 1.67031175, 1.66031363,\n",
       "           1.65031553, 1.64031745, 1.6303194 , 1.62032137, 1.61032337,\n",
       "           1.60032539, 1.59032744, 1.58032951, 1.57033161, 1.56033373,\n",
       "           1.55033588, 1.54033806, 1.53034027, 1.52034251, 1.51034478,\n",
       "           1.50034708, 1.49034941, 1.48035177, 1.47035416, 1.46035658,\n",
       "           1.45035904, 1.44036154, 1.43036406, 1.42036663, 1.41036923,\n",
       "           1.40037186, 1.39037454, 1.38037725, 1.37038   , 1.3603828 ,\n",
       "           1.35038563, 1.34038851, 1.33039143, 1.32039439, 1.3103974 ,\n",
       "           1.30040046, 1.29040356, 1.28040671, 1.27040992, 1.26041317,\n",
       "           1.25041647, 1.24041983, 1.23042324, 1.22042671, 1.21043023,\n",
       "           1.20043382, 1.19043746, 1.18044117, 1.17044494, 1.16044877,\n",
       "           1.15045267, 1.14045664, 1.13046068, 1.12046479, 1.11046898,\n",
       "           1.10047324, 1.09047758, 1.080482  , 1.0704865 , 1.06049109,\n",
       "           1.05049577, 1.04050053, 1.03050539, 1.02051034, 1.01051539,\n",
       "           1.00052054, 0.9905258 , 0.98053116, 0.97053663, 0.96054222,\n",
       "           0.95054792, 0.94055375, 0.9305597 , 0.92056578, 0.91057199,\n",
       "           0.90057834, 0.89058484, 0.88059148, 0.87059827, 0.86060522,\n",
       "           0.85061234, 0.84061962, 0.83062708, 0.82063473, 0.81064256,\n",
       "           0.80065058, 0.79065881, 0.78066725, 0.77067591, 0.76068479,\n",
       "           0.75069391, 0.74070328, 0.73071291, 0.7207228 , 0.71073297,\n",
       "           0.70074343, 0.69075419, 0.68076527, 0.67077668, 0.66078843,\n",
       "           0.65080055, 0.64081304, 0.63082593, 0.62083923, 0.61085297,\n",
       "           0.60086717, 0.59088184, 0.58089702, 0.57091274, 0.56092901,\n",
       "           0.55094587, 0.54096336, 0.5309815 , 0.52100034, 0.51101991,\n",
       "           0.50104027, 0.49106146, 0.48108352, 0.47110652, 0.46113052,\n",
       "           0.45115558, 0.44118177, 0.43120918, 0.42123788, 0.41126798,\n",
       "           0.40129958, 0.39133279, 0.38136774, 0.37140457, 0.36144343,\n",
       "           0.3514845 , 0.34152797, 0.33157405, 0.321623  , 0.31167508,\n",
       "           0.3017306 , 0.29178991, 0.28185342, 0.27192159, 0.26199495,\n",
       "           0.2520741 , 0.24215977, 0.23225278, 0.22235412, 0.21246495,\n",
       "           0.20258666, 0.19272092, 0.18286977, 0.1730357 , 0.16322179,\n",
       "           0.15343192, 0.14367099, 0.13394534, 0.12426324, 0.11463574,\n",
       "           0.10507784, 0.09561042, 0.08626328, 0.07708017, 0.06812748,\n",
       "           0.05950927, 0.05139409, 0.04406079, 0.03796515, 0.03378391,\n",
       "           0.03227   , 0.03378391, 0.03796515, 0.04406079, 0.05139409,\n",
       "           0.05950927, 0.06812748, 0.07708017, 0.08626328, 0.09561042,\n",
       "           0.10507784, 0.11463574, 0.12426324, 0.13394534, 0.14367099,\n",
       "           0.15343192, 0.16322179, 0.1730357 , 0.18286977, 0.19272092,\n",
       "           0.20258666, 0.21246495, 0.22235412, 0.23225278, 0.24215977,\n",
       "           0.2520741 , 0.26199495, 0.27192159, 0.28185342, 0.29178991,\n",
       "           0.3017306 , 0.31167508, 0.321623  , 0.33157405, 0.34152797,\n",
       "           0.3514845 , 0.36144343, 0.37140457, 0.38136774, 0.39133279,\n",
       "           0.40129958, 0.41126798, 0.42123788, 0.43120918, 0.44118177,\n",
       "           0.45115558, 0.46113052, 0.47110652, 0.48108352, 0.49106146,\n",
       "           0.50104027, 0.51101991, 0.52100034, 0.5309815 , 0.54096336,\n",
       "           0.55094587, 0.56092901, 0.57091274, 0.58089702, 0.59088184,\n",
       "           0.60086717, 0.61085297, 0.62083923, 0.63082593, 0.64081304,\n",
       "           0.65080055, 0.66078843, 0.67077668, 0.68076527, 0.69075419,\n",
       "           0.70074343, 0.71073297, 0.7207228 , 0.73071291, 0.74070328,\n",
       "           0.75069391, 0.76068479, 0.77067591, 0.78066725, 0.79065881,\n",
       "           0.80065058, 0.81064256, 0.82063473, 0.83062708, 0.84061962,\n",
       "           0.85061234, 0.86060522, 0.87059827, 0.88059148, 0.89058484,\n",
       "           0.90057834, 0.91057199, 0.92056578, 0.9305597 , 0.94055375,\n",
       "           0.95054792, 0.96054222, 0.97053663, 0.98053116, 0.9905258 ,\n",
       "           1.00052054, 1.01051539, 1.02051034, 1.03050539, 1.04050053,\n",
       "           1.05049577, 1.06049109, 1.0704865 , 1.080482  , 1.09047758,\n",
       "           1.10047324, 1.11046898, 1.12046479, 1.13046068, 1.14045664,\n",
       "           1.15045267, 1.16044877, 1.17044494, 1.18044117, 1.19043746,\n",
       "           1.20043382, 1.21043023, 1.22042671, 1.23042324, 1.24041983,\n",
       "           1.25041647, 1.26041317, 1.27040992, 1.28040671, 1.29040356,\n",
       "           1.30040046, 1.3103974 , 1.32039439, 1.33039143, 1.34038851,\n",
       "           1.35038563, 1.3603828 , 1.37038   , 1.38037725, 1.39037454,\n",
       "           1.40037186, 1.41036923, 1.42036663, 1.43036406, 1.44036154,\n",
       "           1.45035904, 1.46035658, 1.47035416, 1.48035177, 1.49034941,\n",
       "           1.50034708, 1.51034478, 1.52034251, 1.53034027, 1.54033806,\n",
       "           1.55033588, 1.56033373, 1.57033161, 1.58032951, 1.59032744,\n",
       "           1.60032539, 1.61032337, 1.62032137, 1.6303194 , 1.64031745,\n",
       "           1.65031553, 1.66031363, 1.67031175, 1.6803099 , 1.69030806,\n",
       "           1.70030625, 1.71030446, 1.72030269, 1.73030094, 1.74029921,\n",
       "           1.7502975 , 1.76029581, 1.77029414, 1.78029249, 1.79029086,\n",
       "           1.80028924, 1.81028764, 1.82028606, 1.8302845 , 1.84028295,\n",
       "           1.85028143, 1.86027991, 1.87027842, 1.88027694, 1.89027547]>"
      ]
     },
     "execution_count": 23,
     "metadata": {},
     "output_type": "execute_result"
    }
   ],
   "source": [
    "y = np.sqrt(p**2 + ((t-t_max)/t_E)**2)\n",
    "y"
   ]
  },
  {
   "cell_type": "code",
   "execution_count": 24,
   "metadata": {},
   "outputs": [
    {
     "data": {
      "text/latex": [
       "$[1.0525267,~1.0532765,~1.0540391,~\\dots,~1.0735513,~1.0724476,~1.0713637] \\; \\mathrm{}$"
      ],
      "text/plain": [
       "<Quantity [ 1.05252672,  1.05327648,  1.05403915,  1.05481497,  1.05560422,\n",
       "            1.05640715,  1.05722406,  1.05805522,  1.05890093,  1.05976148,\n",
       "            1.06063717,  1.06152831,  1.06243523,  1.06335825,  1.0642977 ,\n",
       "            1.06525393,  1.06622728,  1.06721811,  1.06822678,  1.06925368,\n",
       "            1.07029919,  1.0713637 ,  1.07244762,  1.07355135,  1.07467532,\n",
       "            1.07581997,  1.07698573,  1.07817308,  1.07938246,  1.08061436,\n",
       "            1.08186927,  1.0831477 ,  1.08445015,  1.08577716,  1.08712927,\n",
       "            1.08850704,  1.08991103,  1.09134183,  1.09280004,  1.09428627,\n",
       "            1.09580116,  1.09734535,  1.09891951,  1.10052433,  1.10216049,\n",
       "            1.10382873,  1.10552978,  1.1072644 ,  1.10903336,  1.11083747,\n",
       "            1.11267755,  1.11455445,  1.11646902,  1.11842216,  1.12041479,\n",
       "            1.12244785,  1.1245223 ,  1.12663914,  1.1287994 ,  1.13100412,\n",
       "            1.13325438,  1.13555131,  1.13789604,  1.14028975,  1.14273366,\n",
       "            1.14522901,  1.14777709,  1.15037922,  1.15303676,  1.15575111,\n",
       "            1.15852373,  1.16135609,  1.16424973,  1.16720624,  1.17022723,\n",
       "            1.1733144 ,  1.17646947,  1.17969423,  1.18299053,  1.18636025,\n",
       "            1.18980537,  1.19332792,  1.19692997,  1.20061369,  1.20438131,\n",
       "            1.20823512,  1.21217752,  1.21621096,  1.22033797,  1.22456119,\n",
       "            1.22888334,  1.23330722,  1.23783575,  1.24247192,  1.24721887,\n",
       "            1.25207981,  1.25705809,  1.26215717,  1.26738063,  1.27273219,\n",
       "            1.27821571,  1.2838352 ,  1.28959478,  1.29549879,  1.30155167,\n",
       "            1.30775808,  1.31412283,  1.32065095,  1.32734763,  1.33421829,\n",
       "            1.34126857,  1.34850433,  1.35593168,  1.36355696,  1.37138681,\n",
       "            1.37942813,  1.38768811,  1.39617425,  1.4048944 ,  1.41385672,\n",
       "            1.42306976,  1.43254245,  1.44228411,  1.4523045 ,  1.46261384,\n",
       "            1.47322281,  1.48414261,  1.49538499,  1.50696225,  1.5188873 ,\n",
       "            1.53117369,  1.54383568,  1.55688822,  1.57034707,  1.58422877,\n",
       "            1.59855078,  1.61333148,  1.62859025,  1.64434755,  1.66062497,\n",
       "            1.67744534,  1.69483279,  1.71281288,  1.73141266,  1.75066084,\n",
       "            1.77058785,  1.79122602,  1.81260972,  1.83477552,  1.85776236,\n",
       "            1.88161175,  1.90636802,  1.93207848,  1.95879377,  1.9865681 ,\n",
       "            2.01545957,  2.04553056,  2.07684809,  2.10948431,  2.14351693,\n",
       "            2.17902983,  2.21611365,  2.2548665 ,  2.29539472,  2.3378138 ,\n",
       "            2.38224934,  2.4288382 ,  2.47772979,  2.52908756,  2.58309063,\n",
       "            2.63993574,  2.69983949,  2.76304086,  2.82980417,  2.90042255,\n",
       "            2.97522195,  3.05456581,  3.13886063,  3.22856249,  3.32418478,\n",
       "            3.42630749,  3.53558826,  3.65277577,  3.77872588,  3.91442143,\n",
       "            4.06099641,  4.21976595,  4.39226354,  4.58028777,  4.78596142,\n",
       "            5.01180681,  5.26084283,  5.53671104,  5.84384136,  6.18767205,\n",
       "            6.57494525,  7.01410866,  7.51586809,  8.09395615,  8.76621267,\n",
       "            9.5561132 , 10.49493059, 11.62474214, 13.00239225, 14.7039012 ,\n",
       "           16.82641314, 19.47675612, 22.71243756, 26.35417817, 29.61255266,\n",
       "           31.00063418, 29.61255266, 26.35417816, 22.71243755, 19.47675611,\n",
       "           16.82641313, 14.70390119, 13.00239225, 11.62474214, 10.49493059,\n",
       "            9.5561132 ,  8.76621267,  8.09395615,  7.51586809,  7.01410866,\n",
       "            6.57494525,  6.18767205,  5.84384136,  5.53671104,  5.26084283,\n",
       "            5.01180681,  4.78596142,  4.58028777,  4.39226354,  4.21976595,\n",
       "            4.06099641,  3.91442143,  3.77872588,  3.65277577,  3.53558826,\n",
       "            3.42630749,  3.32418478,  3.22856249,  3.13886063,  3.05456581,\n",
       "            2.97522195,  2.90042255,  2.82980417,  2.76304086,  2.69983949,\n",
       "            2.63993574,  2.58309063,  2.52908756,  2.47772979,  2.4288382 ,\n",
       "            2.38224934,  2.3378138 ,  2.29539472,  2.2548665 ,  2.21611365,\n",
       "            2.17902983,  2.14351693,  2.10948431,  2.07684809,  2.04553056,\n",
       "            2.01545957,  1.9865681 ,  1.95879377,  1.93207848,  1.90636802,\n",
       "            1.88161175,  1.85776236,  1.83477552,  1.81260972,  1.79122602,\n",
       "            1.77058785,  1.75066084,  1.73141266,  1.71281288,  1.69483279,\n",
       "            1.67744534,  1.66062497,  1.64434755,  1.62859025,  1.61333148,\n",
       "            1.59855078,  1.58422877,  1.57034707,  1.55688822,  1.54383568,\n",
       "            1.53117369,  1.5188873 ,  1.50696225,  1.49538499,  1.48414261,\n",
       "            1.47322281,  1.46261384,  1.4523045 ,  1.44228411,  1.43254245,\n",
       "            1.42306976,  1.41385672,  1.4048944 ,  1.39617425,  1.38768811,\n",
       "            1.37942813,  1.37138681,  1.36355696,  1.35593168,  1.34850433,\n",
       "            1.34126857,  1.33421829,  1.32734763,  1.32065095,  1.31412283,\n",
       "            1.30775808,  1.30155167,  1.29549879,  1.28959478,  1.2838352 ,\n",
       "            1.27821571,  1.27273219,  1.26738063,  1.26215717,  1.25705809,\n",
       "            1.25207981,  1.24721887,  1.24247192,  1.23783575,  1.23330722,\n",
       "            1.22888334,  1.22456119,  1.22033797,  1.21621096,  1.21217752,\n",
       "            1.20823512,  1.20438131,  1.20061369,  1.19692997,  1.19332792,\n",
       "            1.18980537,  1.18636025,  1.18299053,  1.17969423,  1.17646947,\n",
       "            1.1733144 ,  1.17022723,  1.16720624,  1.16424973,  1.16135609,\n",
       "            1.15852373,  1.15575111,  1.15303676,  1.15037922,  1.14777709,\n",
       "            1.14522901,  1.14273366,  1.14028975,  1.13789604,  1.13555131,\n",
       "            1.13325438,  1.13100412,  1.1287994 ,  1.12663914,  1.1245223 ,\n",
       "            1.12244785,  1.12041479,  1.11842216,  1.11646902,  1.11455445,\n",
       "            1.11267755,  1.11083747,  1.10903336,  1.1072644 ,  1.10552978,\n",
       "            1.10382873,  1.10216049,  1.10052433,  1.09891951,  1.09734535,\n",
       "            1.09580116,  1.09428627,  1.09280003,  1.09134183,  1.08991103,\n",
       "            1.08850704,  1.08712927,  1.08577716,  1.08445015,  1.0831477 ,\n",
       "            1.08186927,  1.08061436,  1.07938246,  1.07817308,  1.07698573,\n",
       "            1.07581997,  1.07467532,  1.07355135,  1.07244762,  1.0713637 ]>"
      ]
     },
     "execution_count": 24,
     "metadata": {},
     "output_type": "execute_result"
    }
   ],
   "source": [
    "S = (y**2 + 2)/(y*np.sqrt(y**2 + 4))\n",
    "S"
   ]
  },
  {
   "cell_type": "code",
   "execution_count": 25,
   "metadata": {},
   "outputs": [
    {
     "data": {
      "application/javascript": [
       "/* Put everything inside the global mpl namespace */\n",
       "/* global mpl */\n",
       "window.mpl = {};\n",
       "\n",
       "mpl.get_websocket_type = function () {\n",
       "    if (typeof WebSocket !== 'undefined') {\n",
       "        return WebSocket;\n",
       "    } else if (typeof MozWebSocket !== 'undefined') {\n",
       "        return MozWebSocket;\n",
       "    } else {\n",
       "        alert(\n",
       "            'Your browser does not have WebSocket support. ' +\n",
       "                'Please try Chrome, Safari or Firefox ≥ 6. ' +\n",
       "                'Firefox 4 and 5 are also supported but you ' +\n",
       "                'have to enable WebSockets in about:config.'\n",
       "        );\n",
       "    }\n",
       "};\n",
       "\n",
       "mpl.figure = function (figure_id, websocket, ondownload, parent_element) {\n",
       "    this.id = figure_id;\n",
       "\n",
       "    this.ws = websocket;\n",
       "\n",
       "    this.supports_binary = this.ws.binaryType !== undefined;\n",
       "\n",
       "    if (!this.supports_binary) {\n",
       "        var warnings = document.getElementById('mpl-warnings');\n",
       "        if (warnings) {\n",
       "            warnings.style.display = 'block';\n",
       "            warnings.textContent =\n",
       "                'This browser does not support binary websocket messages. ' +\n",
       "                'Performance may be slow.';\n",
       "        }\n",
       "    }\n",
       "\n",
       "    this.imageObj = new Image();\n",
       "\n",
       "    this.context = undefined;\n",
       "    this.message = undefined;\n",
       "    this.canvas = undefined;\n",
       "    this.rubberband_canvas = undefined;\n",
       "    this.rubberband_context = undefined;\n",
       "    this.format_dropdown = undefined;\n",
       "\n",
       "    this.image_mode = 'full';\n",
       "\n",
       "    this.root = document.createElement('div');\n",
       "    this.root.setAttribute('style', 'display: inline-block');\n",
       "    this._root_extra_style(this.root);\n",
       "\n",
       "    parent_element.appendChild(this.root);\n",
       "\n",
       "    this._init_header(this);\n",
       "    this._init_canvas(this);\n",
       "    this._init_toolbar(this);\n",
       "\n",
       "    var fig = this;\n",
       "\n",
       "    this.waiting = false;\n",
       "\n",
       "    this.ws.onopen = function () {\n",
       "        fig.send_message('supports_binary', { value: fig.supports_binary });\n",
       "        fig.send_message('send_image_mode', {});\n",
       "        if (fig.ratio !== 1) {\n",
       "            fig.send_message('set_dpi_ratio', { dpi_ratio: fig.ratio });\n",
       "        }\n",
       "        fig.send_message('refresh', {});\n",
       "    };\n",
       "\n",
       "    this.imageObj.onload = function () {\n",
       "        if (fig.image_mode === 'full') {\n",
       "            // Full images could contain transparency (where diff images\n",
       "            // almost always do), so we need to clear the canvas so that\n",
       "            // there is no ghosting.\n",
       "            fig.context.clearRect(0, 0, fig.canvas.width, fig.canvas.height);\n",
       "        }\n",
       "        fig.context.drawImage(fig.imageObj, 0, 0);\n",
       "    };\n",
       "\n",
       "    this.imageObj.onunload = function () {\n",
       "        fig.ws.close();\n",
       "    };\n",
       "\n",
       "    this.ws.onmessage = this._make_on_message_function(this);\n",
       "\n",
       "    this.ondownload = ondownload;\n",
       "};\n",
       "\n",
       "mpl.figure.prototype._init_header = function () {\n",
       "    var titlebar = document.createElement('div');\n",
       "    titlebar.classList =\n",
       "        'ui-dialog-titlebar ui-widget-header ui-corner-all ui-helper-clearfix';\n",
       "    var titletext = document.createElement('div');\n",
       "    titletext.classList = 'ui-dialog-title';\n",
       "    titletext.setAttribute(\n",
       "        'style',\n",
       "        'width: 100%; text-align: center; padding: 3px;'\n",
       "    );\n",
       "    titlebar.appendChild(titletext);\n",
       "    this.root.appendChild(titlebar);\n",
       "    this.header = titletext;\n",
       "};\n",
       "\n",
       "mpl.figure.prototype._canvas_extra_style = function (_canvas_div) {};\n",
       "\n",
       "mpl.figure.prototype._root_extra_style = function (_canvas_div) {};\n",
       "\n",
       "mpl.figure.prototype._init_canvas = function () {\n",
       "    var fig = this;\n",
       "\n",
       "    var canvas_div = (this.canvas_div = document.createElement('div'));\n",
       "    canvas_div.setAttribute(\n",
       "        'style',\n",
       "        'border: 1px solid #ddd;' +\n",
       "            'box-sizing: content-box;' +\n",
       "            'clear: both;' +\n",
       "            'min-height: 1px;' +\n",
       "            'min-width: 1px;' +\n",
       "            'outline: 0;' +\n",
       "            'overflow: hidden;' +\n",
       "            'position: relative;' +\n",
       "            'resize: both;'\n",
       "    );\n",
       "\n",
       "    function on_keyboard_event_closure(name) {\n",
       "        return function (event) {\n",
       "            return fig.key_event(event, name);\n",
       "        };\n",
       "    }\n",
       "\n",
       "    canvas_div.addEventListener(\n",
       "        'keydown',\n",
       "        on_keyboard_event_closure('key_press')\n",
       "    );\n",
       "    canvas_div.addEventListener(\n",
       "        'keyup',\n",
       "        on_keyboard_event_closure('key_release')\n",
       "    );\n",
       "\n",
       "    this._canvas_extra_style(canvas_div);\n",
       "    this.root.appendChild(canvas_div);\n",
       "\n",
       "    var canvas = (this.canvas = document.createElement('canvas'));\n",
       "    canvas.classList.add('mpl-canvas');\n",
       "    canvas.setAttribute('style', 'box-sizing: content-box;');\n",
       "\n",
       "    this.context = canvas.getContext('2d');\n",
       "\n",
       "    var backingStore =\n",
       "        this.context.backingStorePixelRatio ||\n",
       "        this.context.webkitBackingStorePixelRatio ||\n",
       "        this.context.mozBackingStorePixelRatio ||\n",
       "        this.context.msBackingStorePixelRatio ||\n",
       "        this.context.oBackingStorePixelRatio ||\n",
       "        this.context.backingStorePixelRatio ||\n",
       "        1;\n",
       "\n",
       "    this.ratio = (window.devicePixelRatio || 1) / backingStore;\n",
       "    if (this.ratio !== 1) {\n",
       "        fig.send_message('set_dpi_ratio', { dpi_ratio: this.ratio });\n",
       "    }\n",
       "\n",
       "    var rubberband_canvas = (this.rubberband_canvas = document.createElement(\n",
       "        'canvas'\n",
       "    ));\n",
       "    rubberband_canvas.setAttribute(\n",
       "        'style',\n",
       "        'box-sizing: content-box; position: absolute; left: 0; top: 0; z-index: 1;'\n",
       "    );\n",
       "\n",
       "    var resizeObserver = new ResizeObserver(function (entries) {\n",
       "        var nentries = entries.length;\n",
       "        for (var i = 0; i < nentries; i++) {\n",
       "            var entry = entries[i];\n",
       "            var width, height;\n",
       "            if (entry.contentBoxSize) {\n",
       "                if (entry.contentBoxSize instanceof Array) {\n",
       "                    // Chrome 84 implements new version of spec.\n",
       "                    width = entry.contentBoxSize[0].inlineSize;\n",
       "                    height = entry.contentBoxSize[0].blockSize;\n",
       "                } else {\n",
       "                    // Firefox implements old version of spec.\n",
       "                    width = entry.contentBoxSize.inlineSize;\n",
       "                    height = entry.contentBoxSize.blockSize;\n",
       "                }\n",
       "            } else {\n",
       "                // Chrome <84 implements even older version of spec.\n",
       "                width = entry.contentRect.width;\n",
       "                height = entry.contentRect.height;\n",
       "            }\n",
       "\n",
       "            // Keep the size of the canvas and rubber band canvas in sync with\n",
       "            // the canvas container.\n",
       "            if (entry.devicePixelContentBoxSize) {\n",
       "                // Chrome 84 implements new version of spec.\n",
       "                canvas.setAttribute(\n",
       "                    'width',\n",
       "                    entry.devicePixelContentBoxSize[0].inlineSize\n",
       "                );\n",
       "                canvas.setAttribute(\n",
       "                    'height',\n",
       "                    entry.devicePixelContentBoxSize[0].blockSize\n",
       "                );\n",
       "            } else {\n",
       "                canvas.setAttribute('width', width * fig.ratio);\n",
       "                canvas.setAttribute('height', height * fig.ratio);\n",
       "            }\n",
       "            canvas.setAttribute(\n",
       "                'style',\n",
       "                'width: ' + width + 'px; height: ' + height + 'px;'\n",
       "            );\n",
       "\n",
       "            rubberband_canvas.setAttribute('width', width);\n",
       "            rubberband_canvas.setAttribute('height', height);\n",
       "\n",
       "            // And update the size in Python. We ignore the initial 0/0 size\n",
       "            // that occurs as the element is placed into the DOM, which should\n",
       "            // otherwise not happen due to the minimum size styling.\n",
       "            if (width != 0 && height != 0) {\n",
       "                fig.request_resize(width, height);\n",
       "            }\n",
       "        }\n",
       "    });\n",
       "    resizeObserver.observe(canvas_div);\n",
       "\n",
       "    function on_mouse_event_closure(name) {\n",
       "        return function (event) {\n",
       "            return fig.mouse_event(event, name);\n",
       "        };\n",
       "    }\n",
       "\n",
       "    rubberband_canvas.addEventListener(\n",
       "        'mousedown',\n",
       "        on_mouse_event_closure('button_press')\n",
       "    );\n",
       "    rubberband_canvas.addEventListener(\n",
       "        'mouseup',\n",
       "        on_mouse_event_closure('button_release')\n",
       "    );\n",
       "    // Throttle sequential mouse events to 1 every 20ms.\n",
       "    rubberband_canvas.addEventListener(\n",
       "        'mousemove',\n",
       "        on_mouse_event_closure('motion_notify')\n",
       "    );\n",
       "\n",
       "    rubberband_canvas.addEventListener(\n",
       "        'mouseenter',\n",
       "        on_mouse_event_closure('figure_enter')\n",
       "    );\n",
       "    rubberband_canvas.addEventListener(\n",
       "        'mouseleave',\n",
       "        on_mouse_event_closure('figure_leave')\n",
       "    );\n",
       "\n",
       "    canvas_div.addEventListener('wheel', function (event) {\n",
       "        if (event.deltaY < 0) {\n",
       "            event.step = 1;\n",
       "        } else {\n",
       "            event.step = -1;\n",
       "        }\n",
       "        on_mouse_event_closure('scroll')(event);\n",
       "    });\n",
       "\n",
       "    canvas_div.appendChild(canvas);\n",
       "    canvas_div.appendChild(rubberband_canvas);\n",
       "\n",
       "    this.rubberband_context = rubberband_canvas.getContext('2d');\n",
       "    this.rubberband_context.strokeStyle = '#000000';\n",
       "\n",
       "    this._resize_canvas = function (width, height, forward) {\n",
       "        if (forward) {\n",
       "            canvas_div.style.width = width + 'px';\n",
       "            canvas_div.style.height = height + 'px';\n",
       "        }\n",
       "    };\n",
       "\n",
       "    // Disable right mouse context menu.\n",
       "    this.rubberband_canvas.addEventListener('contextmenu', function (_e) {\n",
       "        event.preventDefault();\n",
       "        return false;\n",
       "    });\n",
       "\n",
       "    function set_focus() {\n",
       "        canvas.focus();\n",
       "        canvas_div.focus();\n",
       "    }\n",
       "\n",
       "    window.setTimeout(set_focus, 100);\n",
       "};\n",
       "\n",
       "mpl.figure.prototype._init_toolbar = function () {\n",
       "    var fig = this;\n",
       "\n",
       "    var toolbar = document.createElement('div');\n",
       "    toolbar.classList = 'mpl-toolbar';\n",
       "    this.root.appendChild(toolbar);\n",
       "\n",
       "    function on_click_closure(name) {\n",
       "        return function (_event) {\n",
       "            return fig.toolbar_button_onclick(name);\n",
       "        };\n",
       "    }\n",
       "\n",
       "    function on_mouseover_closure(tooltip) {\n",
       "        return function (event) {\n",
       "            if (!event.currentTarget.disabled) {\n",
       "                return fig.toolbar_button_onmouseover(tooltip);\n",
       "            }\n",
       "        };\n",
       "    }\n",
       "\n",
       "    fig.buttons = {};\n",
       "    var buttonGroup = document.createElement('div');\n",
       "    buttonGroup.classList = 'mpl-button-group';\n",
       "    for (var toolbar_ind in mpl.toolbar_items) {\n",
       "        var name = mpl.toolbar_items[toolbar_ind][0];\n",
       "        var tooltip = mpl.toolbar_items[toolbar_ind][1];\n",
       "        var image = mpl.toolbar_items[toolbar_ind][2];\n",
       "        var method_name = mpl.toolbar_items[toolbar_ind][3];\n",
       "\n",
       "        if (!name) {\n",
       "            /* Instead of a spacer, we start a new button group. */\n",
       "            if (buttonGroup.hasChildNodes()) {\n",
       "                toolbar.appendChild(buttonGroup);\n",
       "            }\n",
       "            buttonGroup = document.createElement('div');\n",
       "            buttonGroup.classList = 'mpl-button-group';\n",
       "            continue;\n",
       "        }\n",
       "\n",
       "        var button = (fig.buttons[name] = document.createElement('button'));\n",
       "        button.classList = 'mpl-widget';\n",
       "        button.setAttribute('role', 'button');\n",
       "        button.setAttribute('aria-disabled', 'false');\n",
       "        button.addEventListener('click', on_click_closure(method_name));\n",
       "        button.addEventListener('mouseover', on_mouseover_closure(tooltip));\n",
       "\n",
       "        var icon_img = document.createElement('img');\n",
       "        icon_img.src = '_images/' + image + '.png';\n",
       "        icon_img.srcset = '_images/' + image + '_large.png 2x';\n",
       "        icon_img.alt = tooltip;\n",
       "        button.appendChild(icon_img);\n",
       "\n",
       "        buttonGroup.appendChild(button);\n",
       "    }\n",
       "\n",
       "    if (buttonGroup.hasChildNodes()) {\n",
       "        toolbar.appendChild(buttonGroup);\n",
       "    }\n",
       "\n",
       "    var fmt_picker = document.createElement('select');\n",
       "    fmt_picker.classList = 'mpl-widget';\n",
       "    toolbar.appendChild(fmt_picker);\n",
       "    this.format_dropdown = fmt_picker;\n",
       "\n",
       "    for (var ind in mpl.extensions) {\n",
       "        var fmt = mpl.extensions[ind];\n",
       "        var option = document.createElement('option');\n",
       "        option.selected = fmt === mpl.default_extension;\n",
       "        option.innerHTML = fmt;\n",
       "        fmt_picker.appendChild(option);\n",
       "    }\n",
       "\n",
       "    var status_bar = document.createElement('span');\n",
       "    status_bar.classList = 'mpl-message';\n",
       "    toolbar.appendChild(status_bar);\n",
       "    this.message = status_bar;\n",
       "};\n",
       "\n",
       "mpl.figure.prototype.request_resize = function (x_pixels, y_pixels) {\n",
       "    // Request matplotlib to resize the figure. Matplotlib will then trigger a resize in the client,\n",
       "    // which will in turn request a refresh of the image.\n",
       "    this.send_message('resize', { width: x_pixels, height: y_pixels });\n",
       "};\n",
       "\n",
       "mpl.figure.prototype.send_message = function (type, properties) {\n",
       "    properties['type'] = type;\n",
       "    properties['figure_id'] = this.id;\n",
       "    this.ws.send(JSON.stringify(properties));\n",
       "};\n",
       "\n",
       "mpl.figure.prototype.send_draw_message = function () {\n",
       "    if (!this.waiting) {\n",
       "        this.waiting = true;\n",
       "        this.ws.send(JSON.stringify({ type: 'draw', figure_id: this.id }));\n",
       "    }\n",
       "};\n",
       "\n",
       "mpl.figure.prototype.handle_save = function (fig, _msg) {\n",
       "    var format_dropdown = fig.format_dropdown;\n",
       "    var format = format_dropdown.options[format_dropdown.selectedIndex].value;\n",
       "    fig.ondownload(fig, format);\n",
       "};\n",
       "\n",
       "mpl.figure.prototype.handle_resize = function (fig, msg) {\n",
       "    var size = msg['size'];\n",
       "    if (size[0] !== fig.canvas.width || size[1] !== fig.canvas.height) {\n",
       "        fig._resize_canvas(size[0], size[1], msg['forward']);\n",
       "        fig.send_message('refresh', {});\n",
       "    }\n",
       "};\n",
       "\n",
       "mpl.figure.prototype.handle_rubberband = function (fig, msg) {\n",
       "    var x0 = msg['x0'] / fig.ratio;\n",
       "    var y0 = (fig.canvas.height - msg['y0']) / fig.ratio;\n",
       "    var x1 = msg['x1'] / fig.ratio;\n",
       "    var y1 = (fig.canvas.height - msg['y1']) / fig.ratio;\n",
       "    x0 = Math.floor(x0) + 0.5;\n",
       "    y0 = Math.floor(y0) + 0.5;\n",
       "    x1 = Math.floor(x1) + 0.5;\n",
       "    y1 = Math.floor(y1) + 0.5;\n",
       "    var min_x = Math.min(x0, x1);\n",
       "    var min_y = Math.min(y0, y1);\n",
       "    var width = Math.abs(x1 - x0);\n",
       "    var height = Math.abs(y1 - y0);\n",
       "\n",
       "    fig.rubberband_context.clearRect(\n",
       "        0,\n",
       "        0,\n",
       "        fig.canvas.width / fig.ratio,\n",
       "        fig.canvas.height / fig.ratio\n",
       "    );\n",
       "\n",
       "    fig.rubberband_context.strokeRect(min_x, min_y, width, height);\n",
       "};\n",
       "\n",
       "mpl.figure.prototype.handle_figure_label = function (fig, msg) {\n",
       "    // Updates the figure title.\n",
       "    fig.header.textContent = msg['label'];\n",
       "};\n",
       "\n",
       "mpl.figure.prototype.handle_cursor = function (fig, msg) {\n",
       "    var cursor = msg['cursor'];\n",
       "    switch (cursor) {\n",
       "        case 0:\n",
       "            cursor = 'pointer';\n",
       "            break;\n",
       "        case 1:\n",
       "            cursor = 'default';\n",
       "            break;\n",
       "        case 2:\n",
       "            cursor = 'crosshair';\n",
       "            break;\n",
       "        case 3:\n",
       "            cursor = 'move';\n",
       "            break;\n",
       "    }\n",
       "    fig.rubberband_canvas.style.cursor = cursor;\n",
       "};\n",
       "\n",
       "mpl.figure.prototype.handle_message = function (fig, msg) {\n",
       "    fig.message.textContent = msg['message'];\n",
       "};\n",
       "\n",
       "mpl.figure.prototype.handle_draw = function (fig, _msg) {\n",
       "    // Request the server to send over a new figure.\n",
       "    fig.send_draw_message();\n",
       "};\n",
       "\n",
       "mpl.figure.prototype.handle_image_mode = function (fig, msg) {\n",
       "    fig.image_mode = msg['mode'];\n",
       "};\n",
       "\n",
       "mpl.figure.prototype.handle_history_buttons = function (fig, msg) {\n",
       "    for (var key in msg) {\n",
       "        if (!(key in fig.buttons)) {\n",
       "            continue;\n",
       "        }\n",
       "        fig.buttons[key].disabled = !msg[key];\n",
       "        fig.buttons[key].setAttribute('aria-disabled', !msg[key]);\n",
       "    }\n",
       "};\n",
       "\n",
       "mpl.figure.prototype.handle_navigate_mode = function (fig, msg) {\n",
       "    if (msg['mode'] === 'PAN') {\n",
       "        fig.buttons['Pan'].classList.add('active');\n",
       "        fig.buttons['Zoom'].classList.remove('active');\n",
       "    } else if (msg['mode'] === 'ZOOM') {\n",
       "        fig.buttons['Pan'].classList.remove('active');\n",
       "        fig.buttons['Zoom'].classList.add('active');\n",
       "    } else {\n",
       "        fig.buttons['Pan'].classList.remove('active');\n",
       "        fig.buttons['Zoom'].classList.remove('active');\n",
       "    }\n",
       "};\n",
       "\n",
       "mpl.figure.prototype.updated_canvas_event = function () {\n",
       "    // Called whenever the canvas gets updated.\n",
       "    this.send_message('ack', {});\n",
       "};\n",
       "\n",
       "// A function to construct a web socket function for onmessage handling.\n",
       "// Called in the figure constructor.\n",
       "mpl.figure.prototype._make_on_message_function = function (fig) {\n",
       "    return function socket_on_message(evt) {\n",
       "        if (evt.data instanceof Blob) {\n",
       "            /* FIXME: We get \"Resource interpreted as Image but\n",
       "             * transferred with MIME type text/plain:\" errors on\n",
       "             * Chrome.  But how to set the MIME type?  It doesn't seem\n",
       "             * to be part of the websocket stream */\n",
       "            evt.data.type = 'image/png';\n",
       "\n",
       "            /* Free the memory for the previous frames */\n",
       "            if (fig.imageObj.src) {\n",
       "                (window.URL || window.webkitURL).revokeObjectURL(\n",
       "                    fig.imageObj.src\n",
       "                );\n",
       "            }\n",
       "\n",
       "            fig.imageObj.src = (window.URL || window.webkitURL).createObjectURL(\n",
       "                evt.data\n",
       "            );\n",
       "            fig.updated_canvas_event();\n",
       "            fig.waiting = false;\n",
       "            return;\n",
       "        } else if (\n",
       "            typeof evt.data === 'string' &&\n",
       "            evt.data.slice(0, 21) === 'data:image/png;base64'\n",
       "        ) {\n",
       "            fig.imageObj.src = evt.data;\n",
       "            fig.updated_canvas_event();\n",
       "            fig.waiting = false;\n",
       "            return;\n",
       "        }\n",
       "\n",
       "        var msg = JSON.parse(evt.data);\n",
       "        var msg_type = msg['type'];\n",
       "\n",
       "        // Call the  \"handle_{type}\" callback, which takes\n",
       "        // the figure and JSON message as its only arguments.\n",
       "        try {\n",
       "            var callback = fig['handle_' + msg_type];\n",
       "        } catch (e) {\n",
       "            console.log(\n",
       "                \"No handler for the '\" + msg_type + \"' message type: \",\n",
       "                msg\n",
       "            );\n",
       "            return;\n",
       "        }\n",
       "\n",
       "        if (callback) {\n",
       "            try {\n",
       "                // console.log(\"Handling '\" + msg_type + \"' message: \", msg);\n",
       "                callback(fig, msg);\n",
       "            } catch (e) {\n",
       "                console.log(\n",
       "                    \"Exception inside the 'handler_\" + msg_type + \"' callback:\",\n",
       "                    e,\n",
       "                    e.stack,\n",
       "                    msg\n",
       "                );\n",
       "            }\n",
       "        }\n",
       "    };\n",
       "};\n",
       "\n",
       "// from http://stackoverflow.com/questions/1114465/getting-mouse-location-in-canvas\n",
       "mpl.findpos = function (e) {\n",
       "    //this section is from http://www.quirksmode.org/js/events_properties.html\n",
       "    var targ;\n",
       "    if (!e) {\n",
       "        e = window.event;\n",
       "    }\n",
       "    if (e.target) {\n",
       "        targ = e.target;\n",
       "    } else if (e.srcElement) {\n",
       "        targ = e.srcElement;\n",
       "    }\n",
       "    if (targ.nodeType === 3) {\n",
       "        // defeat Safari bug\n",
       "        targ = targ.parentNode;\n",
       "    }\n",
       "\n",
       "    // pageX,Y are the mouse positions relative to the document\n",
       "    var boundingRect = targ.getBoundingClientRect();\n",
       "    var x = e.pageX - (boundingRect.left + document.body.scrollLeft);\n",
       "    var y = e.pageY - (boundingRect.top + document.body.scrollTop);\n",
       "\n",
       "    return { x: x, y: y };\n",
       "};\n",
       "\n",
       "/*\n",
       " * return a copy of an object with only non-object keys\n",
       " * we need this to avoid circular references\n",
       " * http://stackoverflow.com/a/24161582/3208463\n",
       " */\n",
       "function simpleKeys(original) {\n",
       "    return Object.keys(original).reduce(function (obj, key) {\n",
       "        if (typeof original[key] !== 'object') {\n",
       "            obj[key] = original[key];\n",
       "        }\n",
       "        return obj;\n",
       "    }, {});\n",
       "}\n",
       "\n",
       "mpl.figure.prototype.mouse_event = function (event, name) {\n",
       "    var canvas_pos = mpl.findpos(event);\n",
       "\n",
       "    if (name === 'button_press') {\n",
       "        this.canvas.focus();\n",
       "        this.canvas_div.focus();\n",
       "    }\n",
       "\n",
       "    var x = canvas_pos.x * this.ratio;\n",
       "    var y = canvas_pos.y * this.ratio;\n",
       "\n",
       "    this.send_message(name, {\n",
       "        x: x,\n",
       "        y: y,\n",
       "        button: event.button,\n",
       "        step: event.step,\n",
       "        guiEvent: simpleKeys(event),\n",
       "    });\n",
       "\n",
       "    /* This prevents the web browser from automatically changing to\n",
       "     * the text insertion cursor when the button is pressed.  We want\n",
       "     * to control all of the cursor setting manually through the\n",
       "     * 'cursor' event from matplotlib */\n",
       "    event.preventDefault();\n",
       "    return false;\n",
       "};\n",
       "\n",
       "mpl.figure.prototype._key_event_extra = function (_event, _name) {\n",
       "    // Handle any extra behaviour associated with a key event\n",
       "};\n",
       "\n",
       "mpl.figure.prototype.key_event = function (event, name) {\n",
       "    // Prevent repeat events\n",
       "    if (name === 'key_press') {\n",
       "        if (event.which === this._key) {\n",
       "            return;\n",
       "        } else {\n",
       "            this._key = event.which;\n",
       "        }\n",
       "    }\n",
       "    if (name === 'key_release') {\n",
       "        this._key = null;\n",
       "    }\n",
       "\n",
       "    var value = '';\n",
       "    if (event.ctrlKey && event.which !== 17) {\n",
       "        value += 'ctrl+';\n",
       "    }\n",
       "    if (event.altKey && event.which !== 18) {\n",
       "        value += 'alt+';\n",
       "    }\n",
       "    if (event.shiftKey && event.which !== 16) {\n",
       "        value += 'shift+';\n",
       "    }\n",
       "\n",
       "    value += 'k';\n",
       "    value += event.which.toString();\n",
       "\n",
       "    this._key_event_extra(event, name);\n",
       "\n",
       "    this.send_message(name, { key: value, guiEvent: simpleKeys(event) });\n",
       "    return false;\n",
       "};\n",
       "\n",
       "mpl.figure.prototype.toolbar_button_onclick = function (name) {\n",
       "    if (name === 'download') {\n",
       "        this.handle_save(this, null);\n",
       "    } else {\n",
       "        this.send_message('toolbar_button', { name: name });\n",
       "    }\n",
       "};\n",
       "\n",
       "mpl.figure.prototype.toolbar_button_onmouseover = function (tooltip) {\n",
       "    this.message.textContent = tooltip;\n",
       "};\n",
       "mpl.toolbar_items = [[\"Home\", \"Reset original view\", \"fa fa-home icon-home\", \"home\"], [\"Back\", \"Back to previous view\", \"fa fa-arrow-left icon-arrow-left\", \"back\"], [\"Forward\", \"Forward to next view\", \"fa fa-arrow-right icon-arrow-right\", \"forward\"], [\"\", \"\", \"\", \"\"], [\"Pan\", \"Left button pans, Right button zooms\\nx/y fixes axis, CTRL fixes aspect\", \"fa fa-arrows icon-move\", \"pan\"], [\"Zoom\", \"Zoom to rectangle\\nx/y fixes axis, CTRL fixes aspect\", \"fa fa-square-o icon-check-empty\", \"zoom\"], [\"\", \"\", \"\", \"\"], [\"Download\", \"Download plot\", \"fa fa-floppy-o icon-save\", \"download\"]];\n",
       "\n",
       "mpl.extensions = [\"eps\", \"jpeg\", \"pdf\", \"png\", \"ps\", \"raw\", \"svg\", \"tif\"];\n",
       "\n",
       "mpl.default_extension = \"png\";/* global mpl */\n",
       "\n",
       "var comm_websocket_adapter = function (comm) {\n",
       "    // Create a \"websocket\"-like object which calls the given IPython comm\n",
       "    // object with the appropriate methods. Currently this is a non binary\n",
       "    // socket, so there is still some room for performance tuning.\n",
       "    var ws = {};\n",
       "\n",
       "    ws.close = function () {\n",
       "        comm.close();\n",
       "    };\n",
       "    ws.send = function (m) {\n",
       "        //console.log('sending', m);\n",
       "        comm.send(m);\n",
       "    };\n",
       "    // Register the callback with on_msg.\n",
       "    comm.on_msg(function (msg) {\n",
       "        //console.log('receiving', msg['content']['data'], msg);\n",
       "        // Pass the mpl event to the overridden (by mpl) onmessage function.\n",
       "        ws.onmessage(msg['content']['data']);\n",
       "    });\n",
       "    return ws;\n",
       "};\n",
       "\n",
       "mpl.mpl_figure_comm = function (comm, msg) {\n",
       "    // This is the function which gets called when the mpl process\n",
       "    // starts-up an IPython Comm through the \"matplotlib\" channel.\n",
       "\n",
       "    var id = msg.content.data.id;\n",
       "    // Get hold of the div created by the display call when the Comm\n",
       "    // socket was opened in Python.\n",
       "    var element = document.getElementById(id);\n",
       "    var ws_proxy = comm_websocket_adapter(comm);\n",
       "\n",
       "    function ondownload(figure, _format) {\n",
       "        window.open(figure.canvas.toDataURL());\n",
       "    }\n",
       "\n",
       "    var fig = new mpl.figure(id, ws_proxy, ondownload, element);\n",
       "\n",
       "    // Call onopen now - mpl needs it, as it is assuming we've passed it a real\n",
       "    // web socket which is closed, not our websocket->open comm proxy.\n",
       "    ws_proxy.onopen();\n",
       "\n",
       "    fig.parent_element = element;\n",
       "    fig.cell_info = mpl.find_output_cell(\"<div id='\" + id + \"'></div>\");\n",
       "    if (!fig.cell_info) {\n",
       "        console.error('Failed to find cell for figure', id, fig);\n",
       "        return;\n",
       "    }\n",
       "    fig.cell_info[0].output_area.element.one(\n",
       "        'cleared',\n",
       "        { fig: fig },\n",
       "        fig._remove_fig_handler\n",
       "    );\n",
       "};\n",
       "\n",
       "mpl.figure.prototype.handle_close = function (fig, msg) {\n",
       "    var width = fig.canvas.width / fig.ratio;\n",
       "    fig.cell_info[0].output_area.element.off(\n",
       "        'cleared',\n",
       "        fig._remove_fig_handler\n",
       "    );\n",
       "\n",
       "    // Update the output cell to use the data from the current canvas.\n",
       "    fig.push_to_output();\n",
       "    var dataURL = fig.canvas.toDataURL();\n",
       "    // Re-enable the keyboard manager in IPython - without this line, in FF,\n",
       "    // the notebook keyboard shortcuts fail.\n",
       "    IPython.keyboard_manager.enable();\n",
       "    fig.parent_element.innerHTML =\n",
       "        '<img src=\"' + dataURL + '\" width=\"' + width + '\">';\n",
       "    fig.close_ws(fig, msg);\n",
       "};\n",
       "\n",
       "mpl.figure.prototype.close_ws = function (fig, msg) {\n",
       "    fig.send_message('closing', msg);\n",
       "    // fig.ws.close()\n",
       "};\n",
       "\n",
       "mpl.figure.prototype.push_to_output = function (_remove_interactive) {\n",
       "    // Turn the data on the canvas into data in the output cell.\n",
       "    var width = this.canvas.width / this.ratio;\n",
       "    var dataURL = this.canvas.toDataURL();\n",
       "    this.cell_info[1]['text/html'] =\n",
       "        '<img src=\"' + dataURL + '\" width=\"' + width + '\">';\n",
       "};\n",
       "\n",
       "mpl.figure.prototype.updated_canvas_event = function () {\n",
       "    // Tell IPython that the notebook contents must change.\n",
       "    IPython.notebook.set_dirty(true);\n",
       "    this.send_message('ack', {});\n",
       "    var fig = this;\n",
       "    // Wait a second, then push the new image to the DOM so\n",
       "    // that it is saved nicely (might be nice to debounce this).\n",
       "    setTimeout(function () {\n",
       "        fig.push_to_output();\n",
       "    }, 1000);\n",
       "};\n",
       "\n",
       "mpl.figure.prototype._init_toolbar = function () {\n",
       "    var fig = this;\n",
       "\n",
       "    var toolbar = document.createElement('div');\n",
       "    toolbar.classList = 'btn-toolbar';\n",
       "    this.root.appendChild(toolbar);\n",
       "\n",
       "    function on_click_closure(name) {\n",
       "        return function (_event) {\n",
       "            return fig.toolbar_button_onclick(name);\n",
       "        };\n",
       "    }\n",
       "\n",
       "    function on_mouseover_closure(tooltip) {\n",
       "        return function (event) {\n",
       "            if (!event.currentTarget.disabled) {\n",
       "                return fig.toolbar_button_onmouseover(tooltip);\n",
       "            }\n",
       "        };\n",
       "    }\n",
       "\n",
       "    fig.buttons = {};\n",
       "    var buttonGroup = document.createElement('div');\n",
       "    buttonGroup.classList = 'btn-group';\n",
       "    var button;\n",
       "    for (var toolbar_ind in mpl.toolbar_items) {\n",
       "        var name = mpl.toolbar_items[toolbar_ind][0];\n",
       "        var tooltip = mpl.toolbar_items[toolbar_ind][1];\n",
       "        var image = mpl.toolbar_items[toolbar_ind][2];\n",
       "        var method_name = mpl.toolbar_items[toolbar_ind][3];\n",
       "\n",
       "        if (!name) {\n",
       "            /* Instead of a spacer, we start a new button group. */\n",
       "            if (buttonGroup.hasChildNodes()) {\n",
       "                toolbar.appendChild(buttonGroup);\n",
       "            }\n",
       "            buttonGroup = document.createElement('div');\n",
       "            buttonGroup.classList = 'btn-group';\n",
       "            continue;\n",
       "        }\n",
       "\n",
       "        button = fig.buttons[name] = document.createElement('button');\n",
       "        button.classList = 'btn btn-default';\n",
       "        button.href = '#';\n",
       "        button.title = name;\n",
       "        button.innerHTML = '<i class=\"fa ' + image + ' fa-lg\"></i>';\n",
       "        button.addEventListener('click', on_click_closure(method_name));\n",
       "        button.addEventListener('mouseover', on_mouseover_closure(tooltip));\n",
       "        buttonGroup.appendChild(button);\n",
       "    }\n",
       "\n",
       "    if (buttonGroup.hasChildNodes()) {\n",
       "        toolbar.appendChild(buttonGroup);\n",
       "    }\n",
       "\n",
       "    // Add the status bar.\n",
       "    var status_bar = document.createElement('span');\n",
       "    status_bar.classList = 'mpl-message pull-right';\n",
       "    toolbar.appendChild(status_bar);\n",
       "    this.message = status_bar;\n",
       "\n",
       "    // Add the close button to the window.\n",
       "    var buttongrp = document.createElement('div');\n",
       "    buttongrp.classList = 'btn-group inline pull-right';\n",
       "    button = document.createElement('button');\n",
       "    button.classList = 'btn btn-mini btn-primary';\n",
       "    button.href = '#';\n",
       "    button.title = 'Stop Interaction';\n",
       "    button.innerHTML = '<i class=\"fa fa-power-off icon-remove icon-large\"></i>';\n",
       "    button.addEventListener('click', function (_evt) {\n",
       "        fig.handle_close(fig, {});\n",
       "    });\n",
       "    button.addEventListener(\n",
       "        'mouseover',\n",
       "        on_mouseover_closure('Stop Interaction')\n",
       "    );\n",
       "    buttongrp.appendChild(button);\n",
       "    var titlebar = this.root.querySelector('.ui-dialog-titlebar');\n",
       "    titlebar.insertBefore(buttongrp, titlebar.firstChild);\n",
       "};\n",
       "\n",
       "mpl.figure.prototype._remove_fig_handler = function (event) {\n",
       "    var fig = event.data.fig;\n",
       "    fig.close_ws(fig, {});\n",
       "};\n",
       "\n",
       "mpl.figure.prototype._root_extra_style = function (el) {\n",
       "    el.style.boxSizing = 'content-box'; // override notebook setting of border-box.\n",
       "};\n",
       "\n",
       "mpl.figure.prototype._canvas_extra_style = function (el) {\n",
       "    // this is important to make the div 'focusable\n",
       "    el.setAttribute('tabindex', 0);\n",
       "    // reach out to IPython and tell the keyboard manager to turn it's self\n",
       "    // off when our div gets focus\n",
       "\n",
       "    // location in version 3\n",
       "    if (IPython.notebook.keyboard_manager) {\n",
       "        IPython.notebook.keyboard_manager.register_events(el);\n",
       "    } else {\n",
       "        // location in version 2\n",
       "        IPython.keyboard_manager.register_events(el);\n",
       "    }\n",
       "};\n",
       "\n",
       "mpl.figure.prototype._key_event_extra = function (event, _name) {\n",
       "    var manager = IPython.notebook.keyboard_manager;\n",
       "    if (!manager) {\n",
       "        manager = IPython.keyboard_manager;\n",
       "    }\n",
       "\n",
       "    // Check for shift+enter\n",
       "    if (event.shiftKey && event.which === 13) {\n",
       "        this.canvas_div.blur();\n",
       "        // select the cell after this one\n",
       "        var index = IPython.notebook.find_cell_index(this.cell_info[0]);\n",
       "        IPython.notebook.select(index + 1);\n",
       "    }\n",
       "};\n",
       "\n",
       "mpl.figure.prototype.handle_save = function (fig, _msg) {\n",
       "    fig.ondownload(fig, null);\n",
       "};\n",
       "\n",
       "mpl.find_output_cell = function (html_output) {\n",
       "    // Return the cell and output element which can be found *uniquely* in the notebook.\n",
       "    // Note - this is a bit hacky, but it is done because the \"notebook_saving.Notebook\"\n",
       "    // IPython event is triggered only after the cells have been serialised, which for\n",
       "    // our purposes (turning an active figure into a static one), is too late.\n",
       "    var cells = IPython.notebook.get_cells();\n",
       "    var ncells = cells.length;\n",
       "    for (var i = 0; i < ncells; i++) {\n",
       "        var cell = cells[i];\n",
       "        if (cell.cell_type === 'code') {\n",
       "            for (var j = 0; j < cell.output_area.outputs.length; j++) {\n",
       "                var data = cell.output_area.outputs[j];\n",
       "                if (data.data) {\n",
       "                    // IPython >= 3 moved mimebundle to data attribute of output\n",
       "                    data = data.data;\n",
       "                }\n",
       "                if (data['text/html'] === html_output) {\n",
       "                    return [cell, data, j];\n",
       "                }\n",
       "            }\n",
       "        }\n",
       "    }\n",
       "};\n",
       "\n",
       "// Register the function which deals with the matplotlib target/channel.\n",
       "// The kernel may be null if the page has been refreshed.\n",
       "if (IPython.notebook.kernel !== null) {\n",
       "    IPython.notebook.kernel.comm_manager.register_target(\n",
       "        'matplotlib',\n",
       "        mpl.mpl_figure_comm\n",
       "    );\n",
       "}\n"
      ],
      "text/plain": [
       "<IPython.core.display.Javascript object>"
      ]
     },
     "metadata": {},
     "output_type": "display_data"
    },
    {
     "data": {
      "text/html": [
       "<img src=\"data:image/png;base64,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\" width=\"648\">"
      ],
      "text/plain": [
       "<IPython.core.display.HTML object>"
      ]
     },
     "metadata": {},
     "output_type": "display_data"
    },
    {
     "data": {
      "text/plain": [
       "<matplotlib.legend.Legend at 0x7f36861c2fd0>"
      ]
     },
     "execution_count": 25,
     "metadata": {},
     "output_type": "execute_result"
    }
   ],
   "source": [
    "fig, ax = plt.subplots(figsize=(9,5))\n",
    "ax.plot(t, S, label='Lente Gravitacional', c = 'red', linestyle='-')\n",
    "ax.set_xlabel('Tiempo')\n",
    "ax.set_ylabel('Magnificación')\n",
    "plt.grid(True)\n",
    "ax.legend()"
   ]
  },
  {
   "cell_type": "markdown",
   "metadata": {},
   "source": [
    "Los parametros solicitados se pueden extraer de la figura."
   ]
  }
 ],
 "metadata": {
  "kernelspec": {
   "display_name": "Python 3.8 (py38)",
   "language": "python",
   "name": "py38"
  },
  "language_info": {
   "codemirror_mode": {
    "name": "ipython",
    "version": 3
   },
   "file_extension": ".py",
   "mimetype": "text/x-python",
   "name": "python",
   "nbconvert_exporter": "python",
   "pygments_lexer": "ipython3",
   "version": "3.8.5"
  }
 },
 "nbformat": 4,
 "nbformat_minor": 5
}
